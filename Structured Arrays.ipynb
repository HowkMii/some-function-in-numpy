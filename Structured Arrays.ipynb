{
 "cells": [
  {
   "cell_type": "code",
   "execution_count": 1,
   "metadata": {},
   "outputs": [],
   "source": [
    "import numpy as np"
   ]
  },
  {
   "cell_type": "code",
   "execution_count": 2,
   "metadata": {},
   "outputs": [],
   "source": [
    "employee_info = [('name','S10') ,('salary','f8') ,('age','i8')   ]"
   ]
  },
  {
   "cell_type": "code",
   "execution_count": 3,
   "metadata": {},
   "outputs": [
    {
     "data": {
      "text/plain": [
       "[('name', 'S10'), ('salary', 'f8'), ('age', 'i8')]"
      ]
     },
     "execution_count": 3,
     "metadata": {},
     "output_type": "execute_result"
    }
   ],
   "source": [
    "employee_info"
   ]
  },
  {
   "cell_type": "code",
   "execution_count": 4,
   "metadata": {},
   "outputs": [],
   "source": [
    "emplyees_staff = np.zeros((3), dtype = employee_info)"
   ]
  },
  {
   "cell_type": "code",
   "execution_count": 5,
   "metadata": {},
   "outputs": [
    {
     "data": {
      "text/plain": [
       "array([(b'', 0., 0), (b'', 0., 0), (b'', 0., 0)],\n",
       "      dtype=[('name', 'S10'), ('salary', '<f8'), ('age', '<i8')])"
      ]
     },
     "execution_count": 5,
     "metadata": {},
     "output_type": "execute_result"
    }
   ],
   "source": [
    "emplyees_staff"
   ]
  },
  {
   "cell_type": "code",
   "execution_count": 6,
   "metadata": {},
   "outputs": [],
   "source": [
    "emplyees_staff[2] = ('Abdelhakim' , 34 , 23)"
   ]
  },
  {
   "cell_type": "code",
   "execution_count": 7,
   "metadata": {},
   "outputs": [],
   "source": [
    "emplyees_staff[1] = ('DAIKI' , 30 , 20)"
   ]
  },
  {
   "cell_type": "code",
   "execution_count": 8,
   "metadata": {},
   "outputs": [
    {
     "data": {
      "text/plain": [
       "array([(b'',  0.,  0), (b'DAIKI', 30., 20), (b'Abdelhakim', 34., 23)],\n",
       "      dtype=[('name', 'S10'), ('salary', '<f8'), ('age', '<i8')])"
      ]
     },
     "execution_count": 8,
     "metadata": {},
     "output_type": "execute_result"
    }
   ],
   "source": [
    "emplyees_staff"
   ]
  },
  {
   "cell_type": "code",
   "execution_count": 9,
   "metadata": {},
   "outputs": [
    {
     "data": {
      "text/plain": [
       "array([(b'',  0.,  0), (b'DAIKI', 30., 20), (b'Abdelhakim', 34., 23)],\n",
       "      dtype=[('name', 'S10'), ('salary', '<f8'), ('age', '<i8')])"
      ]
     },
     "execution_count": 9,
     "metadata": {},
     "output_type": "execute_result"
    }
   ],
   "source": [
    "emplyees_staff[0:]"
   ]
  },
  {
   "cell_type": "code",
   "execution_count": 10,
   "metadata": {},
   "outputs": [
    {
     "data": {
      "text/plain": [
       "array([(b'DAIKI', 30., 20), (b'Abdelhakim', 34., 23)],\n",
       "      dtype=[('name', 'S10'), ('salary', '<f8'), ('age', '<i8')])"
      ]
     },
     "execution_count": 10,
     "metadata": {},
     "output_type": "execute_result"
    }
   ],
   "source": [
    "emplyees_staff[1:]"
   ]
  },
  {
   "cell_type": "code",
   "execution_count": 11,
   "metadata": {},
   "outputs": [],
   "source": [
    "salary = emplyees_staff['salary']"
   ]
  },
  {
   "cell_type": "code",
   "execution_count": 12,
   "metadata": {},
   "outputs": [],
   "source": [
    "age = emplyees_staff['age']"
   ]
  },
  {
   "cell_type": "code",
   "execution_count": 13,
   "metadata": {},
   "outputs": [],
   "source": [
    "add_salary = salary +2000"
   ]
  },
  {
   "cell_type": "code",
   "execution_count": 14,
   "metadata": {},
   "outputs": [
    {
     "data": {
      "text/plain": [
       "array([2000., 2030., 2034.])"
      ]
     },
     "execution_count": 14,
     "metadata": {},
     "output_type": "execute_result"
    }
   ],
   "source": [
    "add_salary"
   ]
  },
  {
   "cell_type": "code",
   "execution_count": 15,
   "metadata": {},
   "outputs": [],
   "source": [
    "add_age = age + 3"
   ]
  },
  {
   "cell_type": "code",
   "execution_count": 16,
   "metadata": {},
   "outputs": [
    {
     "data": {
      "text/plain": [
       "array([ 3, 23, 26], dtype=int64)"
      ]
     },
     "execution_count": 16,
     "metadata": {},
     "output_type": "execute_result"
    }
   ],
   "source": [
    "add_age\n"
   ]
  },
  {
   "cell_type": "code",
   "execution_count": 17,
   "metadata": {},
   "outputs": [
    {
     "data": {
      "text/plain": [
       "array([(b'',  0.,  0), (b'DAIKI', 30., 20), (b'Abdelhakim', 34., 23)],\n",
       "      dtype=[('name', 'S10'), ('salary', '<f8'), ('age', '<i8')])"
      ]
     },
     "execution_count": 17,
     "metadata": {},
     "output_type": "execute_result"
    }
   ],
   "source": [
    "emplyees_staff"
   ]
  },
  {
   "cell_type": "code",
   "execution_count": 18,
   "metadata": {},
   "outputs": [],
   "source": [
    "all_employees =  np.zeros((4,3,2), dtype = employee_info)"
   ]
  },
  {
   "cell_type": "code",
   "execution_count": 19,
   "metadata": {},
   "outputs": [
    {
     "data": {
      "text/plain": [
       "array([[[(b'', 0., 0), (b'', 0., 0)],\n",
       "        [(b'', 0., 0), (b'', 0., 0)],\n",
       "        [(b'', 0., 0), (b'', 0., 0)]],\n",
       "\n",
       "       [[(b'', 0., 0), (b'', 0., 0)],\n",
       "        [(b'', 0., 0), (b'', 0., 0)],\n",
       "        [(b'', 0., 0), (b'', 0., 0)]],\n",
       "\n",
       "       [[(b'', 0., 0), (b'', 0., 0)],\n",
       "        [(b'', 0., 0), (b'', 0., 0)],\n",
       "        [(b'', 0., 0), (b'', 0., 0)]],\n",
       "\n",
       "       [[(b'', 0., 0), (b'', 0., 0)],\n",
       "        [(b'', 0., 0), (b'', 0., 0)],\n",
       "        [(b'', 0., 0), (b'', 0., 0)]]],\n",
       "      dtype=[('name', 'S10'), ('salary', '<f8'), ('age', '<i8')])"
      ]
     },
     "execution_count": 19,
     "metadata": {},
     "output_type": "execute_result"
    }
   ],
   "source": [
    "all_employees"
   ]
  },
  {
   "cell_type": "code",
   "execution_count": 20,
   "metadata": {},
   "outputs": [
    {
     "data": {
      "text/plain": [
       "array([[[b'', b''],\n",
       "        [b'', b''],\n",
       "        [b'', b'']],\n",
       "\n",
       "       [[b'', b''],\n",
       "        [b'', b''],\n",
       "        [b'', b'']],\n",
       "\n",
       "       [[b'', b''],\n",
       "        [b'', b''],\n",
       "        [b'', b'']],\n",
       "\n",
       "       [[b'', b''],\n",
       "        [b'', b''],\n",
       "        [b'', b'']]], dtype='|S10')"
      ]
     },
     "execution_count": 20,
     "metadata": {},
     "output_type": "execute_result"
    }
   ],
   "source": [
    "all_employees['name']"
   ]
  },
  {
   "cell_type": "code",
   "execution_count": null,
   "metadata": {},
   "outputs": [],
   "source": []
  }
 ],
 "metadata": {
  "kernelspec": {
   "display_name": "Python 3",
   "language": "python",
   "name": "python3"
  },
  "language_info": {
   "codemirror_mode": {
    "name": "ipython",
    "version": 3
   },
   "file_extension": ".py",
   "mimetype": "text/x-python",
   "name": "python",
   "nbconvert_exporter": "python",
   "pygments_lexer": "ipython3",
   "version": "3.8.3"
  }
 },
 "nbformat": 4,
 "nbformat_minor": 4
}
